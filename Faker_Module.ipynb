{
 "cells": [
  {
   "cell_type": "code",
   "execution_count": 1,
   "id": "28584c89",
   "metadata": {},
   "outputs": [],
   "source": [
    "#pip install faker"
   ]
  },
  {
   "cell_type": "markdown",
   "id": "512c6228",
   "metadata": {},
   "source": [
    "### To put fake values in csv file"
   ]
  },
  {
   "cell_type": "code",
   "execution_count": 2,
   "id": "ba46a4c0",
   "metadata": {},
   "outputs": [],
   "source": [
    "import uuid\n",
    "import csv \n",
    "from faker import Faker\n",
    "with open('test_csv_file2.csv', 'w') as csvf:\n",
    "    writer = csv.writer(csvf)\n",
    "    column_headers = (\"email\", \"customerId\", \"firstName\", \"lastName\",\"Date_of_Birth\")\n",
    "    writer.writerow(column_headers)\n",
    "    for _ in range(5):\n",
    "        fake = Faker()\n",
    "        row = (f'qa+{uuid.uuid4()}@example.com', uuid.uuid4(), fake.first_name(), fake.last_name(),fake.date_this_month())\n",
    "        writer.writerow(row)"
   ]
  },
  {
   "cell_type": "code",
   "execution_count": 3,
   "id": "d5bf4930",
   "metadata": {},
   "outputs": [],
   "source": [
    "# dir(fake)"
   ]
  },
  {
   "cell_type": "code",
   "execution_count": null,
   "id": "649724d7",
   "metadata": {},
   "outputs": [],
   "source": []
  },
  {
   "cell_type": "code",
   "execution_count": 4,
   "id": "ed4a5bcb",
   "metadata": {},
   "outputs": [],
   "source": [
    "import uuid\n",
    "import csv \n",
    "from faker import Faker\n",
    "with open('test_csv_file2.csv', 'w') as csvf:\n",
    "    writer = csv.writer(csvf)\n",
    "    column_headers = (\"email\", \"customerId\", \"firstName\", \"lastName\",\"Date_of_Birth\")\n",
    "    writer.writerow(column_headers)\n",
    "    for _ in range(5):\n",
    "        fake = Faker()\n",
    "        row = (f'qa+{uuid.uuid4()}@example.com', fake.uuid4(), fake.first_name(), fake.last_name(),fake.date_this_month())\n",
    "        writer.writerow(row)"
   ]
  },
  {
   "cell_type": "code",
   "execution_count": null,
   "id": "9a04ecfb",
   "metadata": {},
   "outputs": [],
   "source": []
  },
  {
   "cell_type": "code",
   "execution_count": null,
   "id": "ebda1e9b",
   "metadata": {},
   "outputs": [],
   "source": []
  },
  {
   "cell_type": "markdown",
   "id": "4cf051dd",
   "metadata": {},
   "source": [
    "### To bring out fake values in different ways from csv file\n"
   ]
  },
  {
   "cell_type": "code",
   "execution_count": 17,
   "id": "e78d6e2e",
   "metadata": {},
   "outputs": [],
   "source": [
    "#dir(writer)"
   ]
  },
  {
   "cell_type": "code",
   "execution_count": 16,
   "id": "7b7ae417",
   "metadata": {},
   "outputs": [],
   "source": [
    "#dir(csv.reader)"
   ]
  },
  {
   "cell_type": "code",
   "execution_count": 36,
   "id": "36f44040",
   "metadata": {},
   "outputs": [
    {
     "name": "stdout",
     "output_type": "stream",
     "text": [
      "<csv.DictReader object at 0x000001C1D84ABBE0>\n"
     ]
    },
    {
     "data": {
      "text/html": [
       "<div>\n",
       "<style scoped>\n",
       "    .dataframe tbody tr th:only-of-type {\n",
       "        vertical-align: middle;\n",
       "    }\n",
       "\n",
       "    .dataframe tbody tr th {\n",
       "        vertical-align: top;\n",
       "    }\n",
       "\n",
       "    .dataframe thead th {\n",
       "        text-align: right;\n",
       "    }\n",
       "</style>\n",
       "<table border=\"1\" class=\"dataframe\">\n",
       "  <thead>\n",
       "    <tr style=\"text-align: right;\">\n",
       "      <th></th>\n",
       "      <th>email</th>\n",
       "      <th>customerId</th>\n",
       "      <th>firstName</th>\n",
       "      <th>lastName</th>\n",
       "      <th>Date_of_Birth</th>\n",
       "    </tr>\n",
       "  </thead>\n",
       "  <tbody>\n",
       "    <tr>\n",
       "      <th>0</th>\n",
       "      <td>qa+6db16ca7-af8f-45cb-8d05-0cf6687c038c@exampl...</td>\n",
       "      <td>e155511b-54d5-4b2c-b015-5e1641f40380</td>\n",
       "      <td>Lisa</td>\n",
       "      <td>Lawrence</td>\n",
       "      <td>2021-08-07</td>\n",
       "    </tr>\n",
       "    <tr>\n",
       "      <th>1</th>\n",
       "      <td>qa+1aecba23-35d3-43d6-b52e-2127fd032327@exampl...</td>\n",
       "      <td>41880dbe-2584-4f42-b61e-dc4af4b15718</td>\n",
       "      <td>Linda</td>\n",
       "      <td>Guzman</td>\n",
       "      <td>2021-08-01</td>\n",
       "    </tr>\n",
       "    <tr>\n",
       "      <th>2</th>\n",
       "      <td>qa+1ff98e8f-3a8e-430a-b708-59ca0740bde7@exampl...</td>\n",
       "      <td>847ac93f-649c-48a7-8191-a6917284b839</td>\n",
       "      <td>Shelby</td>\n",
       "      <td>Shaffer</td>\n",
       "      <td>2021-08-07</td>\n",
       "    </tr>\n",
       "    <tr>\n",
       "      <th>3</th>\n",
       "      <td>qa+2485a742-414d-46d5-acae-39531ba9ebad@exampl...</td>\n",
       "      <td>4b17a2db-ba7c-4953-a63c-d5021d9dabfc</td>\n",
       "      <td>Alicia</td>\n",
       "      <td>Freeman</td>\n",
       "      <td>2021-08-08</td>\n",
       "    </tr>\n",
       "    <tr>\n",
       "      <th>4</th>\n",
       "      <td>qa+7dd4714d-5f9c-411a-9be2-957872cbda6c@exampl...</td>\n",
       "      <td>1f141ced-ddb0-42a2-a814-c3666869c294</td>\n",
       "      <td>Jill</td>\n",
       "      <td>Swanson</td>\n",
       "      <td>2021-08-07</td>\n",
       "    </tr>\n",
       "  </tbody>\n",
       "</table>\n",
       "</div>"
      ],
      "text/plain": [
       "                                               email  \\\n",
       "0  qa+6db16ca7-af8f-45cb-8d05-0cf6687c038c@exampl...   \n",
       "1  qa+1aecba23-35d3-43d6-b52e-2127fd032327@exampl...   \n",
       "2  qa+1ff98e8f-3a8e-430a-b708-59ca0740bde7@exampl...   \n",
       "3  qa+2485a742-414d-46d5-acae-39531ba9ebad@exampl...   \n",
       "4  qa+7dd4714d-5f9c-411a-9be2-957872cbda6c@exampl...   \n",
       "\n",
       "                             customerId firstName  lastName Date_of_Birth  \n",
       "0  e155511b-54d5-4b2c-b015-5e1641f40380      Lisa  Lawrence    2021-08-07  \n",
       "1  41880dbe-2584-4f42-b61e-dc4af4b15718     Linda    Guzman    2021-08-01  \n",
       "2  847ac93f-649c-48a7-8191-a6917284b839    Shelby   Shaffer    2021-08-07  \n",
       "3  4b17a2db-ba7c-4953-a63c-d5021d9dabfc    Alicia   Freeman    2021-08-08  \n",
       "4  1f141ced-ddb0-42a2-a814-c3666869c294      Jill   Swanson    2021-08-07  "
      ]
     },
     "execution_count": 36,
     "metadata": {},
     "output_type": "execute_result"
    }
   ],
   "source": [
    "#To convert it into pandas eataframe without using read_csv function\n",
    "import pandas as pd\n",
    "from faker import Faker\n",
    "F = open (\"test_csv_file2.csv\", \"r\")\n",
    "read_csv = csv.DictReader(F)\n",
    "print(read_csv)\n",
    "data=pd.DataFrame(read_csv)\n",
    "data.reset_index(inplace=False)\n",
    "data"
   ]
  },
  {
   "cell_type": "code",
   "execution_count": 22,
   "id": "56270d2b",
   "metadata": {},
   "outputs": [
    {
     "name": "stdout",
     "output_type": "stream",
     "text": [
      "['email', 'customerId', 'firstName', 'lastName', 'Date_of_Birth']\n",
      "[]\n",
      "['qa+6db16ca7-af8f-45cb-8d05-0cf6687c038c@example.com', 'e155511b-54d5-4b2c-b015-5e1641f40380', 'Lisa', 'Lawrence', '2021-08-07']\n",
      "[]\n",
      "['qa+1aecba23-35d3-43d6-b52e-2127fd032327@example.com', '41880dbe-2584-4f42-b61e-dc4af4b15718', 'Linda', 'Guzman', '2021-08-01']\n",
      "[]\n",
      "['qa+1ff98e8f-3a8e-430a-b708-59ca0740bde7@example.com', '847ac93f-649c-48a7-8191-a6917284b839', 'Shelby', 'Shaffer', '2021-08-07']\n",
      "[]\n",
      "['qa+2485a742-414d-46d5-acae-39531ba9ebad@example.com', '4b17a2db-ba7c-4953-a63c-d5021d9dabfc', 'Alicia', 'Freeman', '2021-08-08']\n",
      "[]\n",
      "['qa+7dd4714d-5f9c-411a-9be2-957872cbda6c@example.com', '1f141ced-ddb0-42a2-a814-c3666869c294', 'Jill', 'Swanson', '2021-08-07']\n",
      "[]\n"
     ]
    }
   ],
   "source": [
    "#To read all rows from csv\n",
    "import csv\n",
    "with open('test_csv_file2.csv', newline='') as f:\n",
    "    reader = csv.reader(f)\n",
    "    for row in reader:\n",
    "        print(row)"
   ]
  },
  {
   "cell_type": "code",
   "execution_count": 23,
   "id": "724c726f",
   "metadata": {},
   "outputs": [
    {
     "name": "stdout",
     "output_type": "stream",
     "text": [
      "['email', 'customerId', 'firstName', 'lastName', 'Date_of_Birth']\n"
     ]
    }
   ],
   "source": [
    "#To read first row from csv : way 1\n",
    "with open('test_csv_file2.csv', newline='') as f:\n",
    "    reader = csv.reader(f)\n",
    "    row1 = next(reader)\n",
    "    print(row1)\n"
   ]
  },
  {
   "cell_type": "code",
   "execution_count": 24,
   "id": "fbdbfa3d",
   "metadata": {},
   "outputs": [
    {
     "name": "stdout",
     "output_type": "stream",
     "text": [
      "['email', 'customerId', 'firstName', 'lastName', 'Date_of_Birth']\n"
     ]
    }
   ],
   "source": [
    "#To read first row from csv: way 2\n",
    "with open('test_csv_file2.csv', newline='') as f:\n",
    "    reader = csv.reader(f)\n",
    "    for row in reader:\n",
    "    # do something here with `row`\n",
    "        print(row)\n",
    "        break"
   ]
  },
  {
   "cell_type": "code",
   "execution_count": 25,
   "id": "aff87368",
   "metadata": {},
   "outputs": [
    {
     "name": "stdout",
     "output_type": "stream",
     "text": [
      "['email', 'customerId', 'firstName', 'lastName', 'Date_of_Birth']\n",
      "[]\n"
     ]
    }
   ],
   "source": [
    "#print using next function\n",
    "\n",
    "with open('test_csv_file2.csv', newline='') as f:\n",
    "    csv_reader = csv.reader(f)\n",
    "    csv_headings = next(csv_reader)\n",
    "    print(csv_headings)\n",
    "    first_line = next(csv_reader)\n",
    "    print(first_line)"
   ]
  },
  {
   "cell_type": "code",
   "execution_count": 26,
   "id": "7ce128f8",
   "metadata": {},
   "outputs": [
    {
     "name": "stdout",
     "output_type": "stream",
     "text": [
      "All mails: ['qa+6db16ca7-af8f-45cb-8d05-0cf6687c038c@example.com', 'qa+1aecba23-35d3-43d6-b52e-2127fd032327@example.com', 'qa+1ff98e8f-3a8e-430a-b708-59ca0740bde7@example.com', 'qa+2485a742-414d-46d5-acae-39531ba9ebad@example.com', 'qa+7dd4714d-5f9c-411a-9be2-957872cbda6c@example.com']\n",
      "All cids: ['e155511b-54d5-4b2c-b015-5e1641f40380', '41880dbe-2584-4f42-b61e-dc4af4b15718', '847ac93f-649c-48a7-8191-a6917284b839', '4b17a2db-ba7c-4953-a63c-d5021d9dabfc', '1f141ced-ddb0-42a2-a814-c3666869c294']\n",
      "All names: ['Lisa', 'Linda', 'Shelby', 'Alicia', 'Jill']\n"
     ]
    }
   ],
   "source": [
    "# importing the module\n",
    "import csv\n",
    " \n",
    "# open the file in read mode\n",
    "filename = open('test_csv_file2.csv', 'r')\n",
    " \n",
    "# creating dictreader object\n",
    "file = csv.DictReader(filename)\n",
    " \n",
    "# creating empty lists\n",
    "email = []\n",
    "customerId = []\n",
    "firstName = []\n",
    "lastName=[]\n",
    "Date_of_Birth=[]\n",
    "\n",
    " \n",
    "# iterating over each row and append\n",
    "# values to empty list\n",
    "for col in file:\n",
    "    email.append(col['email'])\n",
    "    customerId.append(col['customerId'])\n",
    "    firstName.append(col['firstName'])\n",
    " \n",
    "# printing lists\n",
    "print('All mails:', email)\n",
    "print('All cids:', customerId)\n",
    "print('All names:', firstName)\n",
    "\n",
    "\n",
    "\n"
   ]
  },
  {
   "cell_type": "code",
   "execution_count": null,
   "id": "e45e1043",
   "metadata": {},
   "outputs": [],
   "source": [
    "#dir(filename)"
   ]
  },
  {
   "cell_type": "code",
   "execution_count": 27,
   "id": "2ef20bbc",
   "metadata": {},
   "outputs": [
    {
     "name": "stdout",
     "output_type": "stream",
     "text": [
      "['email', 'customerId', 'firstName', 'lastName', 'Date_of_Birth']\n",
      "['qa+6db16ca7-af8f-45cb-8d05-0cf6687c038c@example.com', 'e155511b-54d5-4b2c-b015-5e1641f40380', 'Lisa', 'Lawrence', '2021-08-07']\n",
      "['qa+1aecba23-35d3-43d6-b52e-2127fd032327@example.com', '41880dbe-2584-4f42-b61e-dc4af4b15718', 'Linda', 'Guzman', '2021-08-01']\n",
      "['qa+1ff98e8f-3a8e-430a-b708-59ca0740bde7@example.com', '847ac93f-649c-48a7-8191-a6917284b839', 'Shelby', 'Shaffer', '2021-08-07']\n",
      "['qa+2485a742-414d-46d5-acae-39531ba9ebad@example.com', '4b17a2db-ba7c-4953-a63c-d5021d9dabfc', 'Alicia', 'Freeman', '2021-08-08']\n",
      "['qa+7dd4714d-5f9c-411a-9be2-957872cbda6c@example.com', '1f141ced-ddb0-42a2-a814-c3666869c294', 'Jill', 'Swanson', '2021-08-07']\n",
      "The number of empty lines are :  6\n"
     ]
    }
   ],
   "source": [
    "#To ignore the empty lines\n",
    "\n",
    "ifile = open (\"test_csv_file2.csv\", \"r\")\n",
    "empty_lines=0\n",
    "for line in csv.reader(ifile): \n",
    "    if not line: \n",
    "        empty_lines += 1 \n",
    "        continue\n",
    "    print(line)\n",
    "print('The number of empty lines are : ',empty_lines)"
   ]
  },
  {
   "cell_type": "code",
   "execution_count": null,
   "id": "d57e7fcf",
   "metadata": {},
   "outputs": [],
   "source": [
    "#dir(csv)"
   ]
  },
  {
   "cell_type": "code",
   "execution_count": 28,
   "id": "d741e4b1",
   "metadata": {},
   "outputs": [
    {
     "name": "stdout",
     "output_type": "stream",
     "text": [
      "['email', 'customerId', 'firstName', 'lastName', 'Date_of_Birth']\n",
      "['qa+6db16ca7-af8f-45cb-8d05-0cf6687c038c@example.com', 'e155511b-54d5-4b2c-b015-5e1641f40380', 'Lisa', 'Lawrence', '2021-08-07']\n",
      "['qa+1aecba23-35d3-43d6-b52e-2127fd032327@example.com', '41880dbe-2584-4f42-b61e-dc4af4b15718', 'Linda', 'Guzman', '2021-08-01']\n",
      "['qa+1ff98e8f-3a8e-430a-b708-59ca0740bde7@example.com', '847ac93f-649c-48a7-8191-a6917284b839', 'Shelby', 'Shaffer', '2021-08-07']\n",
      "['qa+2485a742-414d-46d5-acae-39531ba9ebad@example.com', '4b17a2db-ba7c-4953-a63c-d5021d9dabfc', 'Alicia', 'Freeman', '2021-08-08']\n",
      "['qa+7dd4714d-5f9c-411a-9be2-957872cbda6c@example.com', '1f141ced-ddb0-42a2-a814-c3666869c294', 'Jill', 'Swanson', '2021-08-07']\n",
      "The number of empty lines are :  6\n"
     ]
    }
   ],
   "source": [
    "# To ignore the empty lines\n",
    "\n",
    "with open('test_csv_file2.csv','r') as f:\n",
    "    reader = csv.reader(f)\n",
    "    empty_lines=0\n",
    "    for line in reader: \n",
    "        if not line: \n",
    "            empty_lines += 1 \n",
    "            continue\n",
    "        print(line)\n",
    "print('The number of empty lines are : ',empty_lines)"
   ]
  },
  {
   "cell_type": "code",
   "execution_count": 13,
   "id": "52e52dba",
   "metadata": {},
   "outputs": [
    {
     "name": "stdout",
     "output_type": "stream",
     "text": [
      "[['email', 'customerId', 'firstName', 'lastName', 'Date_of_Birth'], ['qa+6db16ca7-af8f-45cb-8d05-0cf6687c038c@example.com', 'e155511b-54d5-4b2c-b015-5e1641f40380', 'Lisa', 'Lawrence', '2021-08-07'], ['qa+1aecba23-35d3-43d6-b52e-2127fd032327@example.com', '41880dbe-2584-4f42-b61e-dc4af4b15718', 'Linda', 'Guzman', '2021-08-01'], ['qa+1ff98e8f-3a8e-430a-b708-59ca0740bde7@example.com', '847ac93f-649c-48a7-8191-a6917284b839', 'Shelby', 'Shaffer', '2021-08-07'], ['qa+2485a742-414d-46d5-acae-39531ba9ebad@example.com', '4b17a2db-ba7c-4953-a63c-d5021d9dabfc', 'Alicia', 'Freeman', '2021-08-08'], ['qa+7dd4714d-5f9c-411a-9be2-957872cbda6c@example.com', '1f141ced-ddb0-42a2-a814-c3666869c294', 'Jill', 'Swanson', '2021-08-07']]\n",
      "The number of empty lines are :  6\n"
     ]
    }
   ],
   "source": [
    "#To bring the data into list\n",
    "\n",
    "ifile = open (\"test_csv_file2.csv\", \"r\")\n",
    "empty_lines=0\n",
    "lines=[]\n",
    "for line in csv.reader(ifile): \n",
    "    if not line: \n",
    "        empty_lines += 1 \n",
    "        continue\n",
    "    lines.append(line)\n",
    "print(lines)\n",
    "print('The number of empty lines are : ',empty_lines)\n",
    "\n"
   ]
  },
  {
   "cell_type": "code",
   "execution_count": 20,
   "id": "a8a05714",
   "metadata": {},
   "outputs": [
    {
     "name": "stdout",
     "output_type": "stream",
     "text": [
      "[{'email': 'qa+6db16ca7-af8f-45cb-8d05-0cf6687c038c@example.com', 'customerId': 'e155511b-54d5-4b2c-b015-5e1641f40380', 'firstName': 'Lisa', 'lastName': 'Lawrence', 'Date_of_Birth': '2021-08-07'}, {'email': 'qa+1aecba23-35d3-43d6-b52e-2127fd032327@example.com', 'customerId': '41880dbe-2584-4f42-b61e-dc4af4b15718', 'firstName': 'Linda', 'lastName': 'Guzman', 'Date_of_Birth': '2021-08-01'}, {'email': 'qa+1ff98e8f-3a8e-430a-b708-59ca0740bde7@example.com', 'customerId': '847ac93f-649c-48a7-8191-a6917284b839', 'firstName': 'Shelby', 'lastName': 'Shaffer', 'Date_of_Birth': '2021-08-07'}, {'email': 'qa+2485a742-414d-46d5-acae-39531ba9ebad@example.com', 'customerId': '4b17a2db-ba7c-4953-a63c-d5021d9dabfc', 'firstName': 'Alicia', 'lastName': 'Freeman', 'Date_of_Birth': '2021-08-08'}, {'email': 'qa+7dd4714d-5f9c-411a-9be2-957872cbda6c@example.com', 'customerId': '1f141ced-ddb0-42a2-a814-c3666869c294', 'firstName': 'Jill', 'lastName': 'Swanson', 'Date_of_Birth': '2021-08-07'}]\n"
     ]
    }
   ],
   "source": [
    "#To convert them into dictionaries\n",
    "with open(\"test_csv_file2.csv\",'r') as open_csv:\n",
    "    read_csv=csv.DictReader(open_csv)\n",
    "    row1=[row1 for row1 in read_csv]\n",
    "    print(row1)"
   ]
  },
  {
   "cell_type": "code",
   "execution_count": null,
   "id": "86c6125d",
   "metadata": {},
   "outputs": [],
   "source": [
    "\n",
    "#To convert them into dictionaries\n",
    "with open(\"test_csv_file2.csv\",'r') as open_csv:\n",
    "    read_csv=csv.DictReader(open_csv)\n",
    "    email = {}\n",
    "    customerId = {}\n",
    "    firstName = {}\n",
    "    lastName={}\n",
    "    Date_of_Birth={}\n",
    "    i=0\n",
    "    for row in read_csv:\n",
    "        row[i]="
   ]
  },
  {
   "cell_type": "code",
   "execution_count": null,
   "id": "63c9d220",
   "metadata": {},
   "outputs": [],
   "source": [
    "\n",
    "\n"
   ]
  },
  {
   "cell_type": "code",
   "execution_count": 34,
   "id": "427f4bd9",
   "metadata": {},
   "outputs": [
    {
     "name": "stdout",
     "output_type": "stream",
     "text": [
      "[['email,customerId,firstName,lastName,Date_of_Birth'], [], ['qa+6db16ca7-af8f-45cb-8d05-0cf6687c038c@example.com,e155511b-54d5-4b2c-b015-5e1641f40380,Lisa,Lawrence,2021-08-07'], [], ['qa+1aecba23-35d3-43d6-b52e-2127fd032327@example.com,41880dbe-2584-4f42-b61e-dc4af4b15718,Linda,Guzman,2021-08-01'], [], ['qa+1ff98e8f-3a8e-430a-b708-59ca0740bde7@example.com,847ac93f-649c-48a7-8191-a6917284b839,Shelby,Shaffer,2021-08-07'], [], ['qa+2485a742-414d-46d5-acae-39531ba9ebad@example.com,4b17a2db-ba7c-4953-a63c-d5021d9dabfc,Alicia,Freeman,2021-08-08'], [], ['qa+7dd4714d-5f9c-411a-9be2-957872cbda6c@example.com,1f141ced-ddb0-42a2-a814-c3666869c294,Jill,Swanson,2021-08-07'], []]\n"
     ]
    }
   ],
   "source": [
    "from csv import reader\n",
    "\n",
    "with open('test_csv_file2.csv', 'r') as csv_file:\n",
    "    csv_reader = reader(csv_file,delimiter = '\\t')\n",
    "    # Passing the cav_reader object to list() to get a list of lists\n",
    "    list_of_rows = list(csv_reader)\n",
    "    print(list_of_rows)"
   ]
  },
  {
   "cell_type": "code",
   "execution_count": 40,
   "id": "daf9a5f5",
   "metadata": {},
   "outputs": [
    {
     "name": "stdout",
     "output_type": "stream",
     "text": [
      "DATA Science activities are in fact DATA Engineering which has  minimal overlap with core DATA science skills. DATA Science teams can re-double efforts\n"
     ]
    }
   ],
   "source": [
    "import re\n",
    "\n",
    "string = \"Data Science activities are in fact Data Engineering which has  minimal overlap with core Data science skills. data Science teams can re-double efforts\"\n",
    "\n",
    "pattern = r'data'\n",
    "new_string = re.sub(pattern, 'DATA', string, flags=re.IGNORECASE)\n",
    "\n",
    "print(new_string)"
   ]
  },
  {
   "cell_type": "code",
   "execution_count": null,
   "id": "f274a896",
   "metadata": {},
   "outputs": [],
   "source": []
  },
  {
   "cell_type": "code",
   "execution_count": null,
   "id": "66752ac6",
   "metadata": {},
   "outputs": [],
   "source": []
  },
  {
   "cell_type": "code",
   "execution_count": null,
   "id": "19ce0153",
   "metadata": {},
   "outputs": [],
   "source": []
  },
  {
   "cell_type": "code",
   "execution_count": null,
   "id": "691b4e8e",
   "metadata": {},
   "outputs": [],
   "source": []
  },
  {
   "cell_type": "code",
   "execution_count": null,
   "id": "ca04447d",
   "metadata": {},
   "outputs": [],
   "source": []
  },
  {
   "cell_type": "code",
   "execution_count": null,
   "id": "90ee1142",
   "metadata": {},
   "outputs": [],
   "source": []
  },
  {
   "cell_type": "code",
   "execution_count": null,
   "id": "820f766b",
   "metadata": {},
   "outputs": [],
   "source": []
  },
  {
   "cell_type": "code",
   "execution_count": null,
   "id": "6c92297d",
   "metadata": {},
   "outputs": [],
   "source": []
  }
 ],
 "metadata": {
  "kernelspec": {
   "display_name": "Python 3 (ipykernel)",
   "language": "python",
   "name": "python3"
  },
  "language_info": {
   "codemirror_mode": {
    "name": "ipython",
    "version": 3
   },
   "file_extension": ".py",
   "mimetype": "text/x-python",
   "name": "python",
   "nbconvert_exporter": "python",
   "pygments_lexer": "ipython3",
   "version": "3.9.6"
  }
 },
 "nbformat": 4,
 "nbformat_minor": 5
}
